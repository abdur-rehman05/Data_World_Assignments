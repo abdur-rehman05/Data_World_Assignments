{
 "cells": [
  {
   "cell_type": "markdown",
   "metadata": {},
   "source": [
    "1) A company decided to give bonus of 5% to employee if his/her year of service is more than 5 years.\n",
    "Ask user for their salary and year of service and print the net bonus amount."
   ]
  },
  {
   "cell_type": "code",
   "execution_count": 3,
   "metadata": {},
   "outputs": [
    {
     "name": "stdout",
     "output_type": "stream",
     "text": [
      "Congratulations! You qualify for a bonus.\n",
      "Net bonus amount: $ 2500.0\n",
      "Total salary amount: $ 52500.0\n"
     ]
    }
   ],
   "source": [
    "salary = float(input(\"Enter your salary: \"))\n",
    "years_of_service = int(input(\"Enter your years of service: \"))\n",
    "\n",
    "if years_of_service > 5:\n",
    "    bonus_amount = 0.05 * salary\n",
    "    total_salary = salary + bonus_amount\n",
    "    print(\"Congratulations! You qualify for a bonus.\")\n",
    "    print(\"Net bonus amount: $\", bonus_amount)\n",
    "    print(\"Total salary amount: $\", total_salary)\n",
    "else:\n",
    "    print(\"Sorry, you don't qualify for a bonus.\")\n"
   ]
  },
  {
   "cell_type": "markdown",
   "metadata": {},
   "source": [
    "\n",
    "2) Write a program to check whether a person is eligible for voting or not. (accept age from user) if age is greater than 17 eligible otherwise not eligible"
   ]
  },
  {
   "cell_type": "code",
   "execution_count": 6,
   "metadata": {},
   "outputs": [
    {
     "name": "stdout",
     "output_type": "stream",
     "text": [
      "Sorry, You are not eligible to vote.\n"
     ]
    }
   ],
   "source": [
    "age = int(input(\"Enter your age: \"))\n",
    "\n",
    "if age > 17:\n",
    "    print(\"You are eligible to vote.\")\n",
    "else:\n",
    "    print(\"Sorry, You are not eligible to vote.\")\n"
   ]
  },
  {
   "cell_type": "markdown",
   "metadata": {},
   "source": [
    "\n",
    "3) Write a program to check whether a number entered by user is even or odd."
   ]
  },
  {
   "cell_type": "code",
   "execution_count": 8,
   "metadata": {},
   "outputs": [
    {
     "name": "stdout",
     "output_type": "stream",
     "text": [
      "The number entered is even.\n"
     ]
    }
   ],
   "source": [
    "number = int(input(\"Enter a number: \"))\n",
    "\n",
    "if number % 2 == 0:\n",
    "    print(\"The number entered is even.\")\n",
    "else:\n",
    "    print(\"The number entered is odd.\")\n"
   ]
  },
  {
   "cell_type": "markdown",
   "metadata": {},
   "source": [
    "4) Write a program to check whether a number is divisible by 7 or not.\n",
    "Show Answer"
   ]
  },
  {
   "cell_type": "code",
   "execution_count": 9,
   "metadata": {},
   "outputs": [],
   "source": [
    "number = int(input(\"Enter a number: \"))\n",
    "\n",
    "if number % 7 == 0:\n",
    "    print(\"The number entered is divisible by 7.\")\n",
    "else:\n",
    "    print(\"The number entered is not divisible by 7.\")\n"
   ]
  },
  {
   "cell_type": "markdown",
   "metadata": {},
   "source": [
    "5) Write a program to display \n",
    "\"Hello\" if a number entered by user is a multiple of five , otherwise print \"Bye\"."
   ]
  },
  {
   "cell_type": "code",
   "execution_count": 10,
   "metadata": {},
   "outputs": [
    {
     "name": "stdout",
     "output_type": "stream",
     "text": [
      "Bye\n"
     ]
    }
   ],
   "source": [
    "number = int(input(\"Enter a number: \"))\n",
    "\n",
    "if number % 5 == 0:\n",
    "    print(\"Hello\")\n",
    "else:\n",
    "    print(\"Bye\")\n"
   ]
  },
  {
   "cell_type": "markdown",
   "metadata": {},
   "source": [
    "7) Write a program to display the last digit of a number.\n"
   ]
  },
  {
   "cell_type": "code",
   "execution_count": 14,
   "metadata": {},
   "outputs": [
    {
     "name": "stdout",
     "output_type": "stream",
     "text": [
      "The last digit of the number is: 1\n"
     ]
    }
   ],
   "source": [
    "number = int(input(\"Enter a number: \"))\n",
    "\n",
    "last_digit = number % 10\n",
    "\n",
    "print(\"The last digit of the number is:\", last_digit)"
   ]
  },
  {
   "cell_type": "markdown",
   "metadata": {},
   "source": [
    "9) Take values of length and breadth of a rectangle from user and print if it is square or rectangle."
   ]
  },
  {
   "cell_type": "code",
   "execution_count": 16,
   "metadata": {},
   "outputs": [
    {
     "name": "stdout",
     "output_type": "stream",
     "text": [
      "This shape is a rectangle\n"
     ]
    }
   ],
   "source": [
    "length = int(input(\"Enter length: \"))\n",
    "breadth = int(input(\"Enter breadth: \"))\n",
    "\n",
    "if length == breadth:\n",
    "    print(\"This shape is a square\")\n",
    "else:\n",
    "    print(\"This shape is a rectangle\")"
   ]
  },
  {
   "cell_type": "markdown",
   "metadata": {},
   "source": [
    "10) Take two int values from user and print greatest among them."
   ]
  },
  {
   "cell_type": "code",
   "execution_count": 20,
   "metadata": {},
   "outputs": [
    {
     "name": "stdout",
     "output_type": "stream",
     "text": [
      "Both integers are equal.\n"
     ]
    }
   ],
   "source": [
    "num1 = int(input(\"Enter first integer: \"))\n",
    "num2 = int(input(\"Enter second integer: \"))\n",
    "\n",
    "if num1 > num2:\n",
    "    print(num1, \"is greater than\", num2)\n",
    "elif num2 > num1:\n",
    "    print(num2, \"is greater than\", num1)\n",
    "else:\n",
    "    print(\"Both integers are equal.\")"
   ]
  },
  {
   "cell_type": "markdown",
   "metadata": {},
   "source": [
    "11) A shop will give discount of 10% if the cost of purchased quantity is more than 1000.\n",
    "Ask user for quantity\n",
    "Suppose, one unit will cost 100.\n",
    "Judge and print total cost for user."
   ]
  },
  {
   "cell_type": "code",
   "execution_count": 23,
   "metadata": {},
   "outputs": [
    {
     "name": "stdout",
     "output_type": "stream",
     "text": [
      "You have availed a 10% discount on buying 1000+ units\n",
      "Total Amount:  500000\n",
      "After Discount:  450000.0\n"
     ]
    }
   ],
   "source": [
    "quantity = int(input(\"Enter quantity of the product: \"))\n",
    "amount = quantity * 100\n",
    "\n",
    "if quantity > 1000:\n",
    "    print(\"You have availed a 10% discount on buying 1000+ units\")\n",
    "    print(\"Total Amount: \", amount)\n",
    "    print(\"After Discount: \", amount - (amount*0.1))\n",
    "else:\n",
    "    print(\"Total Amount: \", amount)"
   ]
  },
  {
   "cell_type": "markdown",
   "metadata": {},
   "source": [
    "12) A school has following rules for grading system:\n",
    "\n",
    "a. Below 25 - F\n",
    "\n",
    "b. 25 to 45 - E\n",
    "\n",
    "c. 45 to 50 - D\n",
    "\n",
    "d. 50 to 60 - C\n",
    "\n",
    "e. 60 to 80 - B\n",
    "\n",
    "f. Above 80 - A\n",
    "\n",
    "Ask user to enter marks and print the corresponding grade."
   ]
  },
  {
   "cell_type": "code",
   "execution_count": 35,
   "metadata": {},
   "outputs": [
    {
     "name": "stdout",
     "output_type": "stream",
     "text": [
      "You have achieved a grade A\n"
     ]
    }
   ],
   "source": [
    "marks = float(input(\"Enter your marks: \"))\n",
    "\n",
    "if marks < 25:\n",
    "    print(\"You have achieved a grade F\")\n",
    "elif marks >= 25 and marks < 45:\n",
    "    print(\"You have achieved a grade E\")\n",
    "elif marks >= 45 and marks < 50:\n",
    "    print(\"You have achieved a grade D\")\n",
    "elif marks >= 50 and marks < 60:\n",
    "    print(\"You have achieved a grade C\")\n",
    "elif marks >= 60 and marks < 80:\n",
    "    print(\"You have achieved a grade B\")\n",
    "else:\n",
    "    print(\"You have achieved a grade A\")"
   ]
  },
  {
   "cell_type": "markdown",
   "metadata": {},
   "source": [
    "14)A student will not be allowed to sit in exam if his/her attendence is less than 75%.\n",
    "\n",
    "Take following input from user\n",
    "\n",
    "Number of classes held\n",
    "\n",
    "Number of classes attended.\n",
    "\n",
    "And print\n",
    "\n",
    "percentage of class attended\n",
    "\n",
    "Is student is allowed to sit in exam or not.\n"
   ]
  },
  {
   "cell_type": "code",
   "execution_count": 39,
   "metadata": {},
   "outputs": [
    {
     "name": "stdout",
     "output_type": "stream",
     "text": [
      "Your attendance is 85 %\n",
      "You are eligible to sit in the examination.\n"
     ]
    }
   ],
   "source": [
    "classes_held = int(input(\"Enter the number of class held: \"))\n",
    "classes_attended = int(input(\"Enter the number of class attended: \"))\n",
    "\n",
    "attendance = int((classes_attended / classes_held) * 100)\n",
    "print(\"Your attendance is\",attendance, \"%\")\n",
    "\n",
    "if attendance >= 75:\n",
    "    print(\"You are eligible to sit in the examination.\")\n",
    "else:\n",
    "    print(\"You are not eligible to sit in the examination.\")"
   ]
  },
  {
   "cell_type": "markdown",
   "metadata": {},
   "source": [
    "15) Modify the above question to allow student to sit if he/she has medical cause. Ask user if he/she has medical cause or not ( 'Y' or 'N' ) and print accordingly."
   ]
  },
  {
   "cell_type": "code",
   "execution_count": 45,
   "metadata": {},
   "outputs": [
    {
     "name": "stdout",
     "output_type": "stream",
     "text": [
      "Your attendance is 66 %\n",
      "You are not eligible to sit in the examination.\n"
     ]
    }
   ],
   "source": [
    "classes_held = int(input(\"Enter the number of class held: \"))\n",
    "classes_attended = int(input(\"Enter the number of class attended: \"))\n",
    "\n",
    "attendance = int((classes_attended / classes_held) * 100)\n",
    "print(\"Your attendance is\",attendance, \"%\")\n",
    "\n",
    "if attendance >= 75:\n",
    "    print(\"You are eligible to sit in the examination.\")\n",
    "elif attendance < 75:\n",
    "    medical_cause = input(\"Could you please share if there's a medical reason for your low attendance?\")\n",
    "    if medical_cause.upper() == 'Y':\n",
    "        print(\"You are eligible to sit in the examination.\")\n",
    "    else:\n",
    "        print(\"You are not eligible to sit in the examination.\")\n",
    "else:\n",
    "    print(\"You are not eligible to sit in the examination.\")"
   ]
  },
  {
   "cell_type": "markdown",
   "metadata": {},
   "source": [
    "16) Write a program to check if a year is leap year or not.\n",
    "\n",
    "If a year is divisible by 4 then it is leap year but if the year is century year like 2000, 1900, 2100 then it must be divisible by 400."
   ]
  },
  {
   "cell_type": "code",
   "execution_count": 49,
   "metadata": {},
   "outputs": [
    {
     "name": "stdout",
     "output_type": "stream",
     "text": [
      "2000 is a leap year.\n"
     ]
    }
   ],
   "source": [
    "year = int(input(\"Enter a year: \"))\n",
    "\n",
    "if (year % 4 == 0 and year % 100 != 0) or (year % 400 == 0):\n",
    "    print(year, \"is a leap year.\")\n",
    "else:\n",
    "    print(year, \"is not a leap year.\")\n"
   ]
  },
  {
   "cell_type": "markdown",
   "metadata": {},
   "source": [
    "17) Ask user to enter age, gender ( M or F ), marital status ( Y or N ) and then using following rules print their place of service.\n",
    "\n",
    "if employee is female, then she will work only in urban areas.\n",
    "\n",
    "if employee is a male and age is in between 20 to 40 then he may work in anywhere\n",
    "\n",
    "if employee is male and age is in between 40 t0 60 then he will work in urban areas only.\n",
    "\n",
    "And any other input of age should print \"ERROR\""
   ]
  },
  {
   "cell_type": "code",
   "execution_count": 52,
   "metadata": {},
   "outputs": [
    {
     "name": "stdout",
     "output_type": "stream",
     "text": [
      "ERROR!\n"
     ]
    }
   ],
   "source": [
    "age = int(input(\"Enter your age: \"))\n",
    "gender = input(\"Enter your gender[For Male (M) and For Female(F)]: \")\n",
    "marital_status = input(\"Enter your marital status[if Married(Y) and if not Married(N)]: \")\n",
    "\n",
    "if gender.upper()  == 'F':\n",
    "    print(\"You are allowed to work only in urban areas.\")\n",
    "elif gender.upper()  == 'M' and age > 20 and age < 40:\n",
    "    print(\"You are allowed to work anywhere.\")\n",
    "elif gender.upper()  == 'M' and age > 40 and age < 60:\n",
    "    print(\"You are allowed to work only in urban areas.\")\n",
    "else:\n",
    "    print(\"ERROR!\")\n"
   ]
  },
  {
   "cell_type": "markdown",
   "metadata": {},
   "source": [
    "6) Write a program to calculate the electricity bill (accept number of unit from user) according to the following criteria :\n",
    "     Unit                                                     Price  \n",
    "uptp 100 units                                             no charge\n",
    "Next 200 units                                              Rs 5 per unit\n",
    "After 200 units                                             Rs 10 per unit\n",
    "(For example if input unit is 350 than total bill amount is Rs.3500\n",
    "(For example if input unit is 97 than total bill amount is Rs.0\n",
    "(For example if input unit is 150 than total bill amount is Rs.750"
   ]
  },
  {
   "cell_type": "code",
   "execution_count": 58,
   "metadata": {},
   "outputs": [
    {
     "name": "stdout",
     "output_type": "stream",
     "text": [
      "Your Bill Amount is Rs 3500\n"
     ]
    }
   ],
   "source": [
    "units = int(input(\"Enter the number of units you have consumed: \"))\n",
    "\n",
    "if units <= 100:\n",
    "    print(\"Your Bill Amount is Rs 0\")\n",
    "elif units > 100 and units < 200:\n",
    "    print(\"Your Bill Amount is Rs\", units * 5)\n",
    "elif units > 200:\n",
    "    print(\"Your Bill Amount is Rs\", units * 10)\n"
   ]
  },
  {
   "cell_type": "markdown",
   "metadata": {},
   "source": [
    "13) Take input of age of 3 people by user and determine oldest and youngest among them."
   ]
  },
  {
   "cell_type": "code",
   "execution_count": 59,
   "metadata": {},
   "outputs": [
    {
     "name": "stdout",
     "output_type": "stream",
     "text": [
      "The oldest person is 35 years old.\n",
      "The youngest person is 15 years old.\n"
     ]
    }
   ],
   "source": [
    "age1 = int(input(\"Enter the age of person 1: \"))\n",
    "age2 = int(input(\"Enter the age of person 2: \"))\n",
    "age3 = int(input(\"Enter the age of person 3: \"))\n",
    "\n",
    "if age1 >= age2 and age1 >= age3:\n",
    "    oldest_age = age1\n",
    "elif age2 >= age1 and age2 >= age3:\n",
    "    oldest_age = age2\n",
    "else:\n",
    "    oldest_age = age3\n",
    "\n",
    "if age1 <= age2 and age1 <= age3:\n",
    "    youngest_age = age1\n",
    "elif age2 <= age1 and age2 <= age3:\n",
    "    youngest_age = age2\n",
    "else:\n",
    "    youngest_age = age3\n",
    "\n",
    "print(\"The oldest person is {} years old.\".format(oldest_age))\n",
    "print(\"The youngest person is {} years old.\".format(youngest_age))\n"
   ]
  }
 ],
 "metadata": {
  "kernelspec": {
   "display_name": "Python 3 (ipykernel)",
   "language": "python",
   "name": "python3"
  },
  "language_info": {
   "codemirror_mode": {
    "name": "ipython",
    "version": 3
   },
   "file_extension": ".py",
   "mimetype": "text/x-python",
   "name": "python",
   "nbconvert_exporter": "python",
   "pygments_lexer": "ipython3",
   "version": "3.12.3"
  }
 },
 "nbformat": 4,
 "nbformat_minor": 2
}
