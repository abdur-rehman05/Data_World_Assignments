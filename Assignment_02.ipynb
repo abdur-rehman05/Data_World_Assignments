{
  "cells": [
    {
      "cell_type": "markdown",
      "metadata": {
        "id": "bb0O0xtk1v9t"
      },
      "source": [
        "## Task 01:\n",
        "\n",
        "Print Your Name with your Father name and Date of birth using suitable escape sequence charactor\n",
        "\n"
      ]
    },
    {
      "cell_type": "code",
      "execution_count": 9,
      "metadata": {
        "id": "U7LLGIkO2Ixa"
      },
      "outputs": [
        {
          "name": "stdout",
          "output_type": "stream",
          "text": [
            "NAME: SYED ABDUR REHMAN \n",
            "FATHER'S NAME: SYED SABIR ALI \n",
            "DOB: 19TH NOVEMBER, 2001\n"
          ]
        }
      ],
      "source": [
        "print (\"NAME: SYED ABDUR REHMAN \\nFATHER'S NAME: SYED SABIR ALI \\nDOB: 19TH NOVEMBER, 2001\")"
      ]
    },
    {
      "cell_type": "markdown",
      "metadata": {
        "id": "TU-xwiLV2NgB"
      },
      "source": [
        "# Task 02:\n",
        "\n",
        "Write your small bio using variables and print it using print function"
      ]
    },
    {
      "cell_type": "code",
      "execution_count": 6,
      "metadata": {
        "id": "Dw8w3rwl2wDB"
      },
      "outputs": [
        {
          "name": "stdout",
          "output_type": "stream",
          "text": [
            "My name is SYED ABDUR REHMAN. I'm 22 years old. I'm pursuing BE in COMPUTER ENGINEERING from USMAN INSTITUTE OF TECHNOLOGY (2021) \n",
            "and my interests are DATA SCIENCE, MACHINE LEARNING, ARTIFICIAL INTELLIGENCE. \n",
            "I am interested in data science for its problem solving capabilities \n",
            "and also due to its ability to extract meaningful insights from data\n"
          ]
        }
      ],
      "source": [
        "# Defining variables\n",
        "name = \"SYED ABDUR REHMAN.\"\n",
        "institute = \"USMAN INSTITUTE OF TECHNOLOGY\"\n",
        "degree = \"COMPUTER ENGINEERING\"\n",
        "age = \"22\"\n",
        "interests = [\"DATA SCIENCE\", \"MACHINE LEARNING\", \"ARTIFICIAL INTELLIGENCE.\"]\n",
        "\n",
        "# Here's my bio\n",
        "print(\"My name is\", name, \"I'm\", age, \"years old.\" \" I'm pursuing BE in\", degree, \"from\", institute, \"(2021) \\nand my interests are\",\n",
        "       ', '.join(interests), \n",
        "      \"\\nI am interested in data science for its problem solving capabilities \\nand also due to its ability to extract meaningful insights from data\")"
      ]
    },
    {
      "cell_type": "markdown",
      "metadata": {
        "id": "F2lcZuDe2ztv"
      },
      "source": [
        "# Task 03:\n",
        "\n",
        "Write a program in which use all the operators we can use in Python"
      ]
    },
    {
      "cell_type": "code",
      "execution_count": 11,
      "metadata": {
        "id": "lEJhzsXh3e7K"
      },
      "outputs": [
        {
          "name": "stdout",
          "output_type": "stream",
          "text": [
            "Addition:\n",
            "A + B = 15\n",
            "Subtraction:\n",
            "A - B = 5\n",
            "Multiplication:\n",
            "A X B = 50\n",
            "Division:\n",
            "A / B = 2.0\n"
          ]
        }
      ],
      "source": [
        "A = 10\n",
        "B = 5\n",
        "\n",
        "# Addition\n",
        "addition_result = A + B\n",
        "print(\"Addition:\")\n",
        "print(\"A + B =\", addition_result)\n",
        "\n",
        "# Subtraction\n",
        "subtraction_result = A - B\n",
        "print(\"Subtraction:\")\n",
        "print(\"A - B =\", subtraction_result)\n",
        "\n",
        "# Multiplication\n",
        "multiplication_result = A * B\n",
        "print(\"Multiplication:\")\n",
        "print(\"A X B =\", multiplication_result)\n",
        "\n",
        "# Division\n",
        "division_result = A / B\n",
        "print(\"Division:\")\n",
        "print(\"A / B =\", division_result)"
      ]
    },
    {
      "cell_type": "markdown",
      "metadata": {
        "id": "i4N14TJU3l7n"
      },
      "source": [
        "# Task 04:\n",
        "\n",
        "\n",
        "1. Mention Marks of English , Islamiat and Maths out of 100 in 3 different variables\n",
        "\n",
        "2. Mention Variable of Total Marks and assign 300 to it\n",
        "\n",
        "3. Calculate Percentage"
      ]
    },
    {
      "cell_type": "code",
      "execution_count": 4,
      "metadata": {
        "id": "nxojzvRg5PP4"
      },
      "outputs": [
        {
          "name": "stdout",
          "output_type": "stream",
          "text": [
            "Percentage = 81.66666666666667\n"
          ]
        }
      ],
      "source": [
        "# Marks\n",
        "English = 70\n",
        "Islamiat = 95\n",
        "Maths = 80\n",
        "ObtainedMarks = English + Islamiat + Maths\n",
        "TotalMarks = 300\n",
        "\n",
        "# Calculating Percentage\n",
        "Percentage = (ObtainedMarks / TotalMarks) * 100\n",
        "\n",
        "print(\"Percentage =\", Percentage)"
      ]
    }
  ],
  "metadata": {
    "colab": {
      "provenance": []
    },
    "kernelspec": {
      "display_name": "Python 3",
      "name": "python3"
    },
    "language_info": {
      "codemirror_mode": {
        "name": "ipython",
        "version": 3
      },
      "file_extension": ".py",
      "mimetype": "text/x-python",
      "name": "python",
      "nbconvert_exporter": "python",
      "pygments_lexer": "ipython3",
      "version": "3.12.2"
    }
  },
  "nbformat": 4,
  "nbformat_minor": 0
}
